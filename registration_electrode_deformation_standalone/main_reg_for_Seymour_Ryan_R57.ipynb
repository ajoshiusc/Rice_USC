{
 "cells": [
  {
   "cell_type": "markdown",
   "metadata": {},
   "source": [
    "# Rodent Brain Atlas Registration and Electrode Deformation\n",
    "\n",
    "This notebook demonstrates a complete pipeline for registering rodent brain atlases and performing electrode deformation analysis. The workflow includes:\n",
    "\n",
    "1. **Initial Setup and Data Loading**\n",
    "2. **Rigid Registration** - Center alignment of atlas to subject\n",
    "3. **Affine Registration** - Linear alignment refinement  \n",
    "4. **Non-linear Registration** - Deformable registration for precise anatomical matching\n",
    "5. **Electrode Deformation Analysis** - Modeling tissue deformation around implanted electrodes\n",
    "\n",
    "## Overview\n",
    "\n",
    "This registration pipeline uses the Waxholm Space (WHS) rat brain atlas to register with individual subject brain images, followed by specialized electrode deformation modeling. The process is essential for:\n",
    "\n",
    "- Accurate anatomical labeling of subject brain regions\n",
    "- Understanding tissue displacement due to electrode implantation\n",
    "- Quantifying registration quality through Jacobian determinant analysis\n",
    "\n",
    "## Dependencies\n",
    "\n",
    "The notebook requires the following packages:\n",
    "- `nilearn` - Neuroimaging analysis and visualization\n",
    "- `nibabel` - NIfTI image I/O\n",
    "- `SimpleITK` - Image registration toolkit\n",
    "- `MONAI` - Medical imaging transformations\n",
    "- `numpy` - Numerical computing\n",
    "\n",
    "---"
   ]
  },
  {
   "cell_type": "markdown",
   "metadata": {},
   "source": [
    "## 1. Import Libraries and Initialize Environment\n",
    "\n",
    "Import all necessary libraries for image processing, registration, and visualization."
   ]
  },
  {
   "cell_type": "code",
   "execution_count": null,
   "metadata": {},
   "outputs": [],
   "source": [
    "\n",
    "import os\n",
    "import sys\n",
    "# All dependencies are now in the current directory\n",
    "import nilearn.image as ni\n",
    "import nibabel as nb\n",
    "from nilearn.plotting import plot_anat, plot_prob_atlas, show, plot_stat_map\n",
    "import SimpleITK as sitk\n",
    "from utils import pad_nifti_image, multires_registration, interpolate_zeros\n",
    "from aligner import Aligner\n",
    "from warp_utils import apply_warp\n",
    "import numpy as np\n",
    "from monai.transforms import LoadImage, EnsureChannelFirst\n",
    "from warper import Warper\n",
    "\n",
    "\n",
    "\n",
    "# %matplotlib notebook\n",
    "# import gui\n"
   ]
  },
  {
   "cell_type": "markdown",
   "metadata": {},
   "source": [
    "## 2. Configure File Paths\n",
    "\n",
    "Define all input and output file paths for the registration pipeline. \n",
    "\n",
    "**Input Files:**\n",
    "- Subject BSE T2 image\n",
    "- Atlas BSE T2 template  \n",
    "- Atlas anatomical labels\n",
    "\n",
    "**Output Files:**\n",
    "- Registered atlas images at each stage\n",
    "- Transformation files\n",
    "- Quality metrics (Jacobian determinants)"
   ]
  },
  {
   "cell_type": "code",
   "execution_count": null,
   "metadata": {},
   "outputs": [],
   "source": [
    "#subbase = \"/deneb_disk/RodentTools/data/test4/29408.native\"#\n",
    "subbase=\"/deneb_disk/RodentTools/for_Seymour/07_30_2025_R57/R57.reoriented\"\n",
    "\n",
    "sub_bse_t2 = \"/deneb_disk/RodentTools/for_Seymour/07_30_2025_R57/R57.reoriented.bse.nii.gz\" #subbase+\".bfc.nii.gz\"\n",
    "\n",
    "atlas_bse_t2 = \"/deneb_disk/RodentTools/Atlases/Waxholm/WHS_SD_rat_atlas_v4_pack/WHS_SD_rat_T2star_v1.01.bse.nii.gz\"\n",
    "atlas_labels = \"/deneb_disk/RodentTools/Atlases/Waxholm/WHS_SD_rat_atlas_v4_pack/WHS_SD_rat_atlas_v4.nii.gz\"\n",
    "\n",
    "centered_atlas = subbase+\".atlas.cent.nii.gz\"\n",
    "centered_atlas_labels = subbase+\".atlas.cent.label.nii.gz\"\n",
    "cent_transform_file = subbase+\".cent.reg.tfm\"\n",
    "inv_cent_transform_file = subbase+\".cent.reg.inv.tfm\"\n",
    "centered_atlas_linreg = subbase+\".atlas.lin.nii.gz\"\n",
    "centered_atlas_linreg_labels = subbase+\".atlas.lin.label.nii.gz\"\n",
    "lin_reg_map_file = subbase+\".lin_ddf.map.nii.gz\"\n"
   ]
  },
  {
   "cell_type": "code",
   "execution_count": null,
   "metadata": {},
   "outputs": [],
   "source": [
    "\n",
    "nonlin_reg_map_file = subbase+\".nonlin_ddf.map.nii.gz\"\n",
    "inv_nonlin_reg_map_file = subbase+\".inv.nonlin_ddf.map.nii.gz\"\n",
    "centered_atlas_nonlinreg = subbase+\".atlas.nonlin.nii.gz\"\n",
    "centered_atlas_nonlinreg_labels = subbase+\".atlas.nonlin.label.nii.gz\"\n",
    "jac_det_file = subbase+\".jacobian_det.nii.gz\"\n",
    "inv_jac_det_file = subbase+\".inv.jacobian_det.nii.gz\""
   ]
  },
  {
   "cell_type": "markdown",
   "metadata": {},
   "source": [
    "## 3. Initial Data Visualization\n",
    "\n",
    "Visualize the input data before registration to understand the initial alignment between subject and atlas images."
   ]
  },
  {
   "cell_type": "code",
   "execution_count": null,
   "metadata": {},
   "outputs": [],
   "source": [
    "\n",
    "plot_anat(sub_bse_t2)\n",
    "d = plot_anat(atlas_bse_t2)\n",
    "d.add_contours(atlas_labels, cmap=\"prism\")\n"
   ]
  },
  {
   "cell_type": "code",
   "execution_count": null,
   "metadata": {},
   "outputs": [],
   "source": [
    "d=plot_anat(sub_bse_t2, vmax=np.percentile(nb.load(sub_bse_t2).get_fdata(), 99.9),vmin=0)\n",
    "d.add_contours(atlas_labels, cmap=\"prism\")\n"
   ]
  },
  {
   "cell_type": "markdown",
   "metadata": {},
   "source": [
    "## 4. Rigid Registration (Center Alignment)\n",
    "\n",
    "Perform initial rigid registration to align the center of mass between the atlas and subject images. This step corrects for gross positioning differences and provides a good starting point for subsequent registrations.\n",
    "\n",
    "**Key Steps:**\n",
    "1. Initialize centered transform using geometry\n",
    "2. Perform multi-resolution registration\n",
    "3. Save forward and inverse transformations\n",
    "4. Apply transformation to atlas and labels"
   ]
  },
  {
   "cell_type": "code",
   "execution_count": null,
   "metadata": {},
   "outputs": [],
   "source": [
    "fixed_image = sitk.ReadImage(sub_bse_t2, sitk.sitkFloat32)\n",
    "moving_image = sitk.ReadImage(atlas_bse_t2, sitk.sitkFloat32)\n",
    "initial_transform = sitk.CenteredTransformInitializer(\n",
    "    fixed_image,\n",
    "    moving_image,\n",
    "    sitk.Euler3DTransform(),\n",
    "    sitk.CenteredTransformInitializerFilter.GEOMETRY,\n",
    ")\n",
    "\n",
    "final_transform, _ = multires_registration(\n",
    "    fixed_image, moving_image, initial_transform)\n",
    "\n",
    "\n",
    "# save the transformation in a file\n",
    "sitk.WriteTransform(final_transform, cent_transform_file)\n",
    "\n",
    "# invert the transform and also save to a file\n",
    "inv_transform = final_transform.GetInverse()\n",
    "sitk.WriteTransform(inv_transform, inv_cent_transform_file)\n",
    "\n",
    "# load from the file and apply the transformation\n",
    "final_transform = sitk.ReadTransform(cent_transform_file)\n",
    "moved_image = sitk.Resample(moving_image, fixed_image, final_transform)\n",
    "\n",
    "sitk.WriteImage(moved_image, centered_atlas)\n",
    "\n",
    "moving_image = sitk.ReadImage(atlas_labels, sitk.sitkUInt16)\n",
    "moved_image = sitk.Resample(\n",
    "    moving_image,\n",
    "    fixed_image,\n",
    "    transform=final_transform,\n",
    "    interpolator=sitk.sitkNearestNeighbor,\n",
    ")\n",
    "sitk.WriteImage(moved_image, centered_atlas_labels)\n",
    "\n",
    "\n"
   ]
  },
  {
   "cell_type": "markdown",
   "metadata": {},
   "source": [
    "### 4.1 Visualize Rigid Registration Results\n",
    "\n",
    "Check the quality of the rigid registration by overlaying the centered atlas with the subject image."
   ]
  },
  {
   "cell_type": "code",
   "execution_count": null,
   "metadata": {},
   "outputs": [],
   "source": [
    "\n",
    "plot_anat(centered_atlas)\n",
    "d=plot_anat(sub_bse_t2, vmax=np.percentile(nb.load(sub_bse_t2).get_fdata(), 99.9),vmin=0)\n",
    "d.add_contours(centered_atlas_labels, cmap=\"prism\")"
   ]
  },
  {
   "cell_type": "markdown",
   "metadata": {},
   "source": [
    "## 5. Affine Registration\n",
    "\n",
    "Perform affine (linear) registration to account for scaling, rotation, and shearing differences between the atlas and subject. This builds upon the rigid registration to provide better anatomical alignment.\n",
    "\n",
    "**Parameters:**\n",
    "- **Loss function:** Cross-correlation (CC)\n",
    "- **Transformation type:** Affine (12 degrees of freedom)"
   ]
  },
  {
   "cell_type": "code",
   "execution_count": null,
   "metadata": {},
   "outputs": [],
   "source": [
    "aligner = Aligner()\n",
    "aligner.affine_reg(\n",
    "    fixed_file=sub_bse_t2,\n",
    "    moving_file=centered_atlas,\n",
    "    output_file=centered_atlas_linreg,\n",
    "    ddf_file=lin_reg_map_file,\n",
    "    loss=\"cc\",\n",
    ")\n"
   ]
  },
  {
   "cell_type": "markdown",
   "metadata": {},
   "source": [
    "### 5.1 Apply Affine Transform to Labels\n",
    "\n",
    "Apply the computed affine transformation to the atlas labels using the displacement field."
   ]
  },
  {
   "cell_type": "code",
   "execution_count": null,
   "metadata": {},
   "outputs": [],
   "source": [
    "d=plot_anat(sub_bse_t2, vmax=np.percentile(nb.load(sub_bse_t2).get_fdata(), 99.9),vmin=0)\n",
    "d.add_contours(centered_atlas_linreg, cmap=\"prism\")"
   ]
  },
  {
   "cell_type": "code",
   "execution_count": null,
   "metadata": {},
   "outputs": [],
   "source": [
    "disp_field, meta = LoadImage(image_only=False)(lin_reg_map_file)\n",
    "disp_field = EnsureChannelFirst()(disp_field)\n",
    "print(disp_field.shape)\n",
    "\n",
    "at1, meta = LoadImage(image_only=False)(centered_atlas_labels)\n",
    "at_lab = EnsureChannelFirst()(at1)\n",
    "print(at_lab.shape)\n",
    "\n",
    "warped_lab = apply_warp(\n",
    "    disp_field[None,], at_lab[None,], at_lab[None,], interp_mode=\"nearest\"\n",
    ")\n",
    "nb.save(\n",
    "    nb.Nifti1Image(warped_lab[0, 0].detach().cpu().numpy(), at_lab.affine),\n",
    "    centered_atlas_linreg_labels,\n",
    ")\n"
   ]
  },
  {
   "cell_type": "markdown",
   "metadata": {},
   "source": [
    "### 5.2 Compare Registration Results\n",
    "\n",
    "Visual comparison between rigid and affine registration results to assess improvement in anatomical alignment."
   ]
  },
  {
   "cell_type": "code",
   "execution_count": null,
   "metadata": {},
   "outputs": [],
   "source": [
    "d = plot_anat(sub_bse_t2, vmax=np.percentile(nb.load(sub_bse_t2).get_fdata(), 99),vmin=0)\n",
    "d.add_contours(centered_atlas_labels, cmap=\"prism\")\n",
    "d = plot_anat(sub_bse_t2, vmax=np.percentile(nb.load(sub_bse_t2).get_fdata(), 99.95),vmin=np.percentile(nb.load(sub_bse_t2).get_fdata(), 15))\n",
    "d.add_contours(centered_atlas_linreg_labels, cmap=\"hsv\")\n"
   ]
  },
  {
   "cell_type": "markdown",
   "metadata": {},
   "source": [
    "## 6. Non-linear Registration\n",
    "\n",
    "Perform deformable (non-linear) registration to capture local anatomical variations that cannot be corrected by linear transformations alone. This step uses a neural network-based approach for precise anatomical matching.\n",
    "\n",
    "**Parameters:**\n",
    "- **Network input size:** 64×64×64\n",
    "- **Learning rate:** 1e-4\n",
    "- **Maximum epochs:** 5000\n",
    "- **Loss function:** Cross-correlation (CC)\n",
    "- **Regularization penalty:** 1.0"
   ]
  },
  {
   "cell_type": "code",
   "execution_count": null,
   "metadata": {},
   "outputs": [],
   "source": [
    "nonlin_reg = Warper()\n",
    "nonlin_reg.nonlinear_reg(\n",
    "    target_file=sub_bse_t2,\n",
    "    moving_file=centered_atlas_linreg,\n",
    "    output_file=centered_atlas_nonlinreg,\n",
    "    ddf_file=nonlin_reg_map_file,\n",
    "    inv_ddf_file=inv_nonlin_reg_map_file,\n",
    "    reg_penalty=1,  # originally it was 1\n",
    "    nn_input_size=64,\n",
    "    lr=1e-4,\n",
    "    max_epochs=5000,\n",
    "    loss=\"cc\",\n",
    "    jacobian_determinant_file=jac_det_file,\n",
    "    inv_jacobian_determinant_file=inv_jac_det_file,\n",
    ")\n"
   ]
  },
  {
   "cell_type": "markdown",
   "metadata": {},
   "source": [
    "### 6.1 Apply Non-linear Transformation\n",
    "\n",
    "Apply the computed deformation field to transform the atlas labels to match the subject anatomy."
   ]
  },
  {
   "cell_type": "code",
   "execution_count": null,
   "metadata": {},
   "outputs": [],
   "source": [
    "disp_field, meta = LoadImage(image_only=False)(nonlin_reg_map_file)\n",
    "disp_field = EnsureChannelFirst()(disp_field)\n",
    "print(disp_field.shape)\n",
    "\n",
    "at1, meta = LoadImage(image_only=False)(centered_atlas_linreg_labels)\n",
    "at_lab = EnsureChannelFirst()(at1)\n",
    "print(at_lab.shape)\n",
    "\n",
    "warped_lab = apply_warp(\n",
    "    disp_field[None,], at_lab[None,], at_lab[None,], interp_mode=\"nearest\"\n",
    ")\n",
    "nb.save(\n",
    "    nb.Nifti1Image(\n",
    "        np.uint16(warped_lab[0, 0].detach().cpu().numpy()), at_lab.affine),\n",
    "    centered_atlas_nonlinreg_labels,\n",
    ")\n"
   ]
  },
  {
   "cell_type": "markdown",
   "metadata": {},
   "source": [
    "### 6.2 Compare Registration Stages\n",
    "\n",
    "Visual comparison between affine and non-linear registration results to evaluate the improvement in anatomical detail matching."
   ]
  },
  {
   "cell_type": "code",
   "execution_count": null,
   "metadata": {},
   "outputs": [],
   "source": [
    "d = plot_anat(sub_bse_t2, vmax=np.percentile(nb.load(sub_bse_t2).get_fdata(), 99),vmin=0)\n",
    "d.add_contours(centered_atlas_linreg_labels, cmap=\"prism\")\n",
    "d = plot_anat(sub_bse_t2, vmax=np.percentile(nb.load(sub_bse_t2).get_fdata(), 99),vmin=0)\n",
    "d.add_contours(centered_atlas_nonlinreg_labels, cmap=\"prism\")\n"
   ]
  },
  {
   "cell_type": "markdown",
   "metadata": {},
   "source": [
    "## 7. Registration Quality Assessment\n",
    "\n",
    "Evaluate the quality of the non-linear registration using Jacobian determinant analysis. The Jacobian determinant measures local volume changes and helps identify areas of expansion/compression in the deformation field.\n",
    "\n",
    "**Interpretation:**\n",
    "- **Jacobian = 1:** No volume change (perfect preservation)\n",
    "- **Jacobian > 1:** Local expansion \n",
    "- **Jacobian < 1:** Local compression\n",
    "- **Values close to 0:** Potential registration artifacts"
   ]
  },
  {
   "cell_type": "code",
   "execution_count": null,
   "metadata": {},
   "outputs": [],
   "source": [
    "plot_anat(jac_det_file, colorbar=True)\n",
    "\n",
    "jac=nb.load(jac_det_file)\n",
    "jac = jac.get_fdata() - 1\n",
    "\n",
    "from nilearn.image import new_img_like\n",
    "jac = new_img_like(sub_bse_t2,jac)\n",
    "plot_stat_map(jac,sub_bse_t2,title='Jac det')"
   ]
  },
  {
   "cell_type": "markdown",
   "metadata": {},
   "source": [
    "### 7.1 Forward Jacobian Determinant\n",
    "\n",
    "Analysis of the forward transformation (atlas → subject) Jacobian determinant."
   ]
  },
  {
   "cell_type": "code",
   "execution_count": null,
   "metadata": {},
   "outputs": [],
   "source": [
    "plot_anat(inv_jac_det_file, colorbar=True)\n",
    "\n",
    "jac=nb.load(inv_jac_det_file)\n",
    "jac = jac.get_fdata() - 1\n",
    "\n",
    "from nilearn.image import new_img_like\n",
    "jac = new_img_like(sub_bse_t2,jac)\n",
    "plot_stat_map(jac,sub_bse_t2,title='Jac det inv')\n"
   ]
  },
  {
   "cell_type": "markdown",
   "metadata": {},
   "source": [
    "### 7.2 Inverse Jacobian Determinant  \n",
    "\n",
    "Analysis of the inverse transformation (subject → atlas) Jacobian determinant to assess bidirectional registration quality."
   ]
  },
  {
   "cell_type": "markdown",
   "metadata": {},
   "source": [
    "## 8. Electrode Deformation Analysis\n",
    "\n",
    "This section demonstrates specialized electrode deformation modeling, which is crucial for understanding how brain tissue deforms around implanted electrodes. This analysis helps in:\n",
    "\n",
    "- **Correcting registration artifacts** caused by electrode implantation\n",
    "- **Modeling tissue displacement** around foreign objects\n",
    "- **Improving anatomical accuracy** in regions affected by electrodes\n",
    "\n",
    "The deformation modeling uses specific target points that represent the electrode center and tip positions, allowing for precise modeling of the cylindrical deformation field around the electrode tract.\n",
    "\n",
    "### Key Parameters:\n",
    "- **Target points:** Coordinates defining electrode center and tip\n",
    "- **Deformation model:** Cylindrical field around electrode tract  \n",
    "- **Label handling:** Nearest-neighbor interpolation for discrete labels"
   ]
  },
  {
   "cell_type": "code",
   "execution_count": null,
   "metadata": {},
   "outputs": [],
   "source": [
    "# Import required modules for electrode deformation\n",
    "from deform_image_by_electrode import deform_image_by_electrode\n",
    "import SimpleITK as sitk"
   ]
  },
  {
   "cell_type": "markdown",
   "metadata": {},
   "source": [
    "### 8.1 First Electrode Deformation\n",
    "\n",
    "Model deformation around the first electrode using the linearly registered atlas as the starting point."
   ]
  },
  {
   "cell_type": "code",
   "execution_count": null,
   "metadata": {},
   "outputs": [],
   "source": [
    "# First electrode deformation example\n",
    "# Define paths for the first electrode\n",
    "target_path = '/deneb_disk/RodentTools/for_Seymour/07_30_2025_R57/R57.reoriented.atlas.lin.label.nii.gz'\n",
    "target_electrode_path = '/deneb_disk/RodentTools/for_Seymour/07_30_2025_R57/R57.reoriented.atlas.lin.electrode1.label.nii.gz'\n",
    "target_electrode_deformed_path = '/deneb_disk/RodentTools/for_Seymour/07_30_2025_R57/R57.reoriented.atlas.lin.electrode1.deformed.label.nii.gz'\n",
    "\n",
    "# Define target points for first electrode (center and tip)\n",
    "target_pts = [[-2.08, -1.74, 6.86], [-2.18, -3.12, -0.54]]\n",
    "\n",
    "# Perform electrode deformation\n",
    "deform_image_by_electrode(\n",
    "    target_path=target_path,\n",
    "    target_electrode_path=target_electrode_path,\n",
    "    target_electrode_deformed_path=target_electrode_deformed_path,\n",
    "    target_pts=target_pts, \n",
    "    islabel=True  # mark center of electrode and tip of electrode\n",
    ")"
   ]
  },
  {
   "cell_type": "markdown",
   "metadata": {},
   "source": [
    "### 8.2 Second Electrode Deformation\n",
    "\n",
    "Model deformation around the second electrode using the result from the first electrode deformation. This sequential approach accounts for the cumulative effects of multiple electrode insertions."
   ]
  },
  {
   "cell_type": "code",
   "execution_count": null,
   "metadata": {},
   "outputs": [],
   "source": [
    "# Second electrode deformation example\n",
    "# Define paths for the second electrode (using first electrode's deformed result as input)\n",
    "target_path = '/deneb_disk/RodentTools/for_Seymour/07_30_2025_R57/R57.reoriented.atlas.lin.electrode1.deformed.label.nii.gz'\n",
    "target_electrode_path = '/deneb_disk/RodentTools/for_Seymour/07_30_2025_R57/R57.reoriented.atlas.lin.electrode2.label.nii.gz'\n",
    "target_electrode_deformed_path = '/deneb_disk/RodentTools/for_Seymour/07_30_2025_R57/R57.reoriented.atlas.lin.electrode2.deformed.label.nii.gz'\n",
    "\n",
    "# Define target points for second electrode (center and tip)\n",
    "target_pts = [[-4.00, -5.72, 6.86], [-4.70, -6.62, -0.40]]\n",
    "\n",
    "# Perform electrode deformation\n",
    "deform_image_by_electrode(\n",
    "    target_path=target_path,\n",
    "    target_electrode_path=target_electrode_path,\n",
    "    target_electrode_deformed_path=target_electrode_deformed_path,\n",
    "    target_pts=target_pts, \n",
    "    islabel=True  # mark center of electrode and tip of electrode\n",
    ")"
   ]
  },
  {
   "cell_type": "markdown",
   "metadata": {},
   "source": [
    "---\n",
    "\n",
    "## Summary\n",
    "\n",
    "This notebook demonstrated a complete pipeline for rodent brain atlas registration and electrode deformation analysis:\n",
    "\n",
    "### Registration Pipeline:\n",
    "1. **Rigid Registration** - Initial center alignment\n",
    "2. **Affine Registration** - Linear transformation refinement  \n",
    "3. **Non-linear Registration** - Deformable registration for precise anatomical matching\n",
    "4. **Quality Assessment** - Jacobian determinant analysis\n",
    "\n",
    "### Electrode Deformation Modeling:\n",
    "- Specialized deformation field modeling around electrode tracts\n",
    "- Sequential processing for multiple electrodes\n",
    "- Tissue displacement correction for improved registration accuracy\n",
    "\n",
    "### Key Outputs:\n",
    "- Registered atlas images at each transformation stage\n",
    "- Anatomical labels aligned to subject space\n",
    "- Quality metrics (Jacobian determinants)\n",
    "- Electrode deformation-corrected registrations\n",
    "\n",
    "### Applications:\n",
    "- Accurate anatomical labeling of rodent brain regions\n",
    "- Quantification of tissue deformation due to electrode implantation  \n",
    "- Quality control for registration accuracy\n",
    "- Research in neuroscience and medical imaging\n",
    "\n",
    "---\n",
    "\n",
    "**Note:** File paths in this notebook are configured for a specific dataset (R57). Update the file paths in section 2 to match your data organization before running the pipeline."
   ]
  }
 ],
 "metadata": {
  "kernelspec": {
   "display_name": "my_venv",
   "language": "python",
   "name": "python3"
  },
  "language_info": {
   "codemirror_mode": {
    "name": "ipython",
    "version": 3
   },
   "file_extension": ".py",
   "mimetype": "text/x-python",
   "name": "python",
   "nbconvert_exporter": "python",
   "pygments_lexer": "ipython3",
   "version": "3.11.2"
  }
 },
 "nbformat": 4,
 "nbformat_minor": 2
}
